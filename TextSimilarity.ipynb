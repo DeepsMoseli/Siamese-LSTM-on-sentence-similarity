{
 "cells": [
  {
   "cell_type": "markdown",
   "metadata": {},
   "source": [
    "##  Moseli Motsoehli\n",
    "\n",
    "### Seq to Seq model for comparing text similarity."
   ]
  },
  {
   "cell_type": "markdown",
   "metadata": {},
   "source": [
    "__I use the quora question pairs dataset as a test for this although the model is eventually used for text transcribed from recorded speech as a way to evaluate  public speaking__\n",
    "\n",
    "Siamese lstm to classify similar senrences"
   ]
  },
  {
   "cell_type": "code",
   "execution_count": 1,
   "metadata": {},
   "outputs": [
    {
     "name": "stderr",
     "output_type": "stream",
     "text": [
      "[nltk_data] Downloading package stopwords to\n",
      "[nltk_data]     /home/moselim/nltk_data...\n",
      "[nltk_data]   Package stopwords is already up-to-date!\n",
      "Using TensorFlow backend.\n",
      "/home/moselim/.conda/envs/tensorflow/lib/python3.7/site-packages/tensorflow/python/framework/dtypes.py:516: FutureWarning: Passing (type, 1) or '1type' as a synonym of type is deprecated; in a future version of numpy, it will be understood as (type, (1,)) / '(1,)type'.\n",
      "  _np_qint8 = np.dtype([(\"qint8\", np.int8, 1)])\n",
      "/home/moselim/.conda/envs/tensorflow/lib/python3.7/site-packages/tensorflow/python/framework/dtypes.py:517: FutureWarning: Passing (type, 1) or '1type' as a synonym of type is deprecated; in a future version of numpy, it will be understood as (type, (1,)) / '(1,)type'.\n",
      "  _np_quint8 = np.dtype([(\"quint8\", np.uint8, 1)])\n",
      "/home/moselim/.conda/envs/tensorflow/lib/python3.7/site-packages/tensorflow/python/framework/dtypes.py:518: FutureWarning: Passing (type, 1) or '1type' as a synonym of type is deprecated; in a future version of numpy, it will be understood as (type, (1,)) / '(1,)type'.\n",
      "  _np_qint16 = np.dtype([(\"qint16\", np.int16, 1)])\n",
      "/home/moselim/.conda/envs/tensorflow/lib/python3.7/site-packages/tensorflow/python/framework/dtypes.py:519: FutureWarning: Passing (type, 1) or '1type' as a synonym of type is deprecated; in a future version of numpy, it will be understood as (type, (1,)) / '(1,)type'.\n",
      "  _np_quint16 = np.dtype([(\"quint16\", np.uint16, 1)])\n",
      "/home/moselim/.conda/envs/tensorflow/lib/python3.7/site-packages/tensorflow/python/framework/dtypes.py:520: FutureWarning: Passing (type, 1) or '1type' as a synonym of type is deprecated; in a future version of numpy, it will be understood as (type, (1,)) / '(1,)type'.\n",
      "  _np_qint32 = np.dtype([(\"qint32\", np.int32, 1)])\n",
      "/home/moselim/.conda/envs/tensorflow/lib/python3.7/site-packages/tensorflow/python/framework/dtypes.py:525: FutureWarning: Passing (type, 1) or '1type' as a synonym of type is deprecated; in a future version of numpy, it will be understood as (type, (1,)) / '(1,)type'.\n",
      "  np_resource = np.dtype([(\"resource\", np.ubyte, 1)])\n",
      "/home/moselim/.conda/envs/tensorflow/lib/python3.7/site-packages/tensorboard/compat/tensorflow_stub/dtypes.py:541: FutureWarning: Passing (type, 1) or '1type' as a synonym of type is deprecated; in a future version of numpy, it will be understood as (type, (1,)) / '(1,)type'.\n",
      "  _np_qint8 = np.dtype([(\"qint8\", np.int8, 1)])\n",
      "/home/moselim/.conda/envs/tensorflow/lib/python3.7/site-packages/tensorboard/compat/tensorflow_stub/dtypes.py:542: FutureWarning: Passing (type, 1) or '1type' as a synonym of type is deprecated; in a future version of numpy, it will be understood as (type, (1,)) / '(1,)type'.\n",
      "  _np_quint8 = np.dtype([(\"quint8\", np.uint8, 1)])\n",
      "/home/moselim/.conda/envs/tensorflow/lib/python3.7/site-packages/tensorboard/compat/tensorflow_stub/dtypes.py:543: FutureWarning: Passing (type, 1) or '1type' as a synonym of type is deprecated; in a future version of numpy, it will be understood as (type, (1,)) / '(1,)type'.\n",
      "  _np_qint16 = np.dtype([(\"qint16\", np.int16, 1)])\n",
      "/home/moselim/.conda/envs/tensorflow/lib/python3.7/site-packages/tensorboard/compat/tensorflow_stub/dtypes.py:544: FutureWarning: Passing (type, 1) or '1type' as a synonym of type is deprecated; in a future version of numpy, it will be understood as (type, (1,)) / '(1,)type'.\n",
      "  _np_quint16 = np.dtype([(\"quint16\", np.uint16, 1)])\n",
      "/home/moselim/.conda/envs/tensorflow/lib/python3.7/site-packages/tensorboard/compat/tensorflow_stub/dtypes.py:545: FutureWarning: Passing (type, 1) or '1type' as a synonym of type is deprecated; in a future version of numpy, it will be understood as (type, (1,)) / '(1,)type'.\n",
      "  _np_qint32 = np.dtype([(\"qint32\", np.int32, 1)])\n",
      "/home/moselim/.conda/envs/tensorflow/lib/python3.7/site-packages/tensorboard/compat/tensorflow_stub/dtypes.py:550: FutureWarning: Passing (type, 1) or '1type' as a synonym of type is deprecated; in a future version of numpy, it will be understood as (type, (1,)) / '(1,)type'.\n",
      "  np_resource = np.dtype([(\"resource\", np.ubyte, 1)])\n"
     ]
    }
   ],
   "source": [
    "#### Libraries\n",
    "import scipy as sc\n",
    "from scipy.spatial.distance import cosine\n",
    "import pandas as pd\n",
    "import math\n",
    "import logging\n",
    "from collections import Counter\n",
    "from  tqdm import tqdm\n",
    "from tabulate import tabulate\n",
    "from Generator import *\n",
    "\n",
    "from gensim.models import Word2Vec\n",
    "from gensim.models.doc2vec import Doc2Vec,TaggedDocument\n",
    "from sklearn.model_selection import train_test_split as tts\n",
    "from sklearn.preprocessing import LabelBinarizer\n",
    "\n",
    "import os\n",
    "import re\n",
    "import nltk\n",
    "from nltk.tokenize import word_tokenize as wt\n",
    "from nltk.tokenize import sent_tokenize as st\n",
    "from nltk.stem import PorterStemmer\n",
    "from nltk.corpus import stopwords\n",
    "nltk.download('stopwords')\n",
    "\n",
    "import matplotlib.pyplot as plt\n",
    "\n",
    "import keras\n",
    "from keras.preprocessing.sequence import pad_sequences\n",
    "from keras import backend as k\n",
    "from keras import initializers\n",
    "from keras.optimizers import RMSprop,Adam,Adagrad\n",
    "from keras.models import Model,Sequential,load_model\n",
    "from keras.layers import Dense,LSTM,Input,Activation,Flatten,subtract,merge,concatenate,Reshape,Embedding,Bidirectional,Dropout\n",
    "from keras.callbacks import ModelCheckpoint\n",
    "from keras.models import load_model\n",
    "from keras.utils import to_categorical\n",
    "from keras.callbacks import LearningRateScheduler,EarlyStopping"
   ]
  },
  {
   "cell_type": "markdown",
   "metadata": {},
   "source": [
    "## Constants"
   ]
  },
  {
   "cell_type": "code",
   "execution_count": 2,
   "metadata": {},
   "outputs": [],
   "source": [
    "STRING_SIZE=16\n",
    "BATCH_SIZE=64\n",
    "NUM_EPOCHS = 40"
   ]
  },
  {
   "cell_type": "markdown",
   "metadata": {},
   "source": [
    "## Load Dataset"
   ]
  },
  {
   "cell_type": "code",
   "execution_count": 48,
   "metadata": {},
   "outputs": [
    {
     "name": "stdout",
     "output_type": "stream",
     "text": [
      "Number of examples: 404289\n",
      "Number of examples after removing NA: 404286\n",
      "\n",
      "\n",
      "   id  qid1  qid2                                          question1  \\\n",
      "0   0     1     2  What is the step by step guide to invest in sh...   \n",
      "1   1     3     4  What is the story of Kohinoor (Koh-i-Noor) Dia...   \n",
      "\n",
      "                                           question2  is_duplicate  \n",
      "0  What is the step by step guide to invest in sh...             0  \n",
      "1  What would happen if the Indian government sto...             0  \n",
      "\n",
      "\n",
      "            id    qid1    qid2  \\\n",
      "404284  404287  537928  537929   \n",
      "404285  404288  537930  537931   \n",
      "\n",
      "                                                question1  \\\n",
      "404284                                  What is one coin?   \n",
      "404285  What is the approx annual cost of living while...   \n",
      "\n",
      "                                                question2  is_duplicate  \n",
      "404284                                  What's this coin?             0  \n",
      "404285  I am having little hairfall problem but I want...             0  \n",
      "\n",
      "\n",
      "propotion of positives: 0.36920150586466016\n"
     ]
    }
   ],
   "source": [
    "datafile = \"train.csv\"\n",
    "\n",
    "data =  pd.read_csv(datafile,sep=\",\")[:][:-1]\n",
    "print(\"Number of examples: %s\"%len(data))\n",
    "data=data.dropna(subset=['question1','question2', 'is_duplicate'])\n",
    "data=data.reset_index(drop=True)\n",
    "print(\"Number of examples after removing NA: %s\"%len(data))\n",
    "print(\"\\n\")\n",
    "print(data.head(2))\n",
    "print(\"\\n\")\n",
    "print(data.tail(2))\n",
    "print(\"\\n\")\n",
    "print(\"propotion of positives: %s\"%np.mean(data[\"is_duplicate\"]))"
   ]
  },
  {
   "cell_type": "markdown",
   "metadata": {},
   "source": [
    "### Preprocessing addopted from my Topic Model in ICS661 AKA Thematron"
   ]
  },
  {
   "cell_type": "code",
   "execution_count": 3,
   "metadata": {},
   "outputs": [],
   "source": [
    "def remove_special(text):\n",
    "    special_chars = \"[~#$%^@&*&()+-_\\\",?!.:[]\\\\;><`|{}=\\\\'=»¿シし]\"\n",
    "    for k in special_chars:\n",
    "            if type(text) == str:\n",
    "                if k==\"-\" or k==\"_\":\n",
    "                    text=text.replace(k, \"\")\n",
    "                else:\n",
    "                    text=text.replace(k, \" \")       \n",
    "    return text\n",
    "\n",
    "def contractions(sent):\n",
    "    sub_pattern = [(\"will not\",\"won't\"),(\"shall not\",\"shan't\"),\n",
    "                (\" not\", \"n\\'t\"),(\" will\",\"\\'ll\"),(\" is\",\"\\'s\"),\n",
    "                   (\" am\",\"\\'m\"),(\" are\",\"\\'re\"),(\" is\",\"who\\'s\")]\n",
    "    sent2=sent.split(\" \")\n",
    "    hold = \"\"\n",
    "    for k in range(len(sent2)):\n",
    "        kk = sent2[k]\n",
    "        for rep in range(len(sub_pattern)):\n",
    "            kk = re.sub(sub_pattern[rep][1],sub_pattern[rep][0],kk)\n",
    "        hold = hold + \" \" + kk\n",
    "    return hold.lower()\n",
    "\n",
    "def remove_stop_words(text):\n",
    "    stops =  set(stopwords.words('english'))\n",
    "    stops1 = [word.lower() for word in stops]\n",
    "    punctuation = [',','.','!','?',';','-']\n",
    "    hold = []\n",
    "    if type(text) == list:\n",
    "        for word in range(len(text)):\n",
    "            if text[word].lower() in stops1 or text[word].lower() in punctuation or text[word].lower() == \"xxxxxx\":\n",
    "                continue\n",
    "            else:\n",
    "                hold.append(text[word].lower())\n",
    "    return hold\n",
    "\n",
    "def wordTok(sent):\n",
    "    tok = wt(sent)\n",
    "    return tok\n",
    "\n",
    "def pipeline(text):\n",
    "    text = contractions(text)\n",
    "    text = remove_special(text)\n",
    "    textToks = wordTok(text)\n",
    "    #textToks = remove_stop_words(textToks)\n",
    "    final = \"\"\n",
    "    for k in range(len(textToks)):\n",
    "            final = final+textToks[k]+\" \"\n",
    "    return final.strip().lower()\n",
    "\n",
    "########################################################\n",
    "########create corpus and create word vectors and training data###########\n",
    "def createCorpus(t):\n",
    "    corpus = []\n",
    "    all_sent = []\n",
    "    for k in t:\n",
    "        for p in t[k]:\n",
    "            corpus.append(st(p))\n",
    "    for sent in range(len(corpus)):\n",
    "        for k in corpus[sent]:\n",
    "            all_sent.append(k)\n",
    "    for m in range(len(all_sent)):\n",
    "        all_sent[m] = wt(all_sent[m])\n",
    "    \n",
    "    all_words=[]\n",
    "    for sent in all_sent:\n",
    "        hold=[]\n",
    "        for word in sent:\n",
    "            hold.append(word.lower())\n",
    "        all_words.append(hold)\n",
    "    return all_words\n",
    "\n",
    "def wordvecmatrix(model1,data):\n",
    "    IO_data={\"question1\":[],\"question2\":[],\"label\":[]}\n",
    "    pbar = tqdm(range(len(data[\"question1\"])))\n",
    "    for k in range(len(data[\"question1\"])):\n",
    "        q1=[]\n",
    "        q2=[]\n",
    "        label=[]\n",
    "        for word in data[\"question1\"][k]:\n",
    "            try:\n",
    "                q1.append(model1.wv.word_vec(word))\n",
    "            except Exception as e:\n",
    "                continue\n",
    "        for word in data[\"question2\"][k]:\n",
    "            try:\n",
    "                q2.append(model1.wv.word_vec(word))\n",
    "            except Exception as e:\n",
    "                continue\n",
    "        IO_data[\"label\"].append(data[\"is_duplicate\"][k])\n",
    "        IO_data[\"question1\"].append(q1) \n",
    "        IO_data[\"question2\"].append(q2)\n",
    "        pbar.update(1)\n",
    "    print('\\007')\n",
    "    pbar.close()\n",
    "    return IO_data\n",
    "\n",
    "def sequence_padding(stringlist):\n",
    "    newstring = pad_sequences(stringlist, maxlen=STRING_SIZE,\n",
    "                              dtype=object,padding='post',value=\"PAD\")\n",
    "    return newstring\n",
    "\n",
    "def list2string(listinput):\n",
    "    hold=\"\"\n",
    "    for k in listinput:\n",
    "        hold = hold +k.strip()+\" \"\n",
    "    return hold.strip()"
   ]
  },
  {
   "cell_type": "markdown",
   "metadata": {},
   "source": [
    "### Corpus and Wordvectors"
   ]
  },
  {
   "cell_type": "code",
   "execution_count": 5,
   "metadata": {},
   "outputs": [],
   "source": [
    "sentences1 = list(map(wordTok,data[\"question1\"]))\n",
    "sentences2 = list(map(wordTok,data[\"question2\"]))\n",
    "\n",
    "####Truncade and Pad to N words max\n",
    "sentences1 = list(map(list,sequence_padding(sentences1)))\n",
    "sentences2 = list(map(list,sequence_padding(sentences2)))\n",
    "\n",
    "data[\"question1\"] = sentences1\n",
    "data[\"question2\"] = sentences2\n",
    "dataAll = [data[\"question1\"],data[\"question2\"]] \n",
    "dataAll = pd.concat(dataAll)"
   ]
  },
  {
   "cell_type": "code",
   "execution_count": 6,
   "metadata": {},
   "outputs": [
    {
     "name": "stderr",
     "output_type": "stream",
     "text": [
      "100%|██████████| 404286/404286 [00:29<00:00, 13560.54it/s]"
     ]
    },
    {
     "name": "stdout",
     "output_type": "stream",
     "text": [
      "\u0007\n",
      "['How', 'can', 'I', 'increase', 'the', 'speed', 'of', 'my', 'internet', 'connection', 'while', 'using', 'a', 'VPN', '?', 'PAD']\n",
      "16\n",
      "['How', 'can', 'Internet', 'speed', 'be', 'increased', 'by', 'hacking', 'through', 'DNS', '?', 'PAD', 'PAD', 'PAD', 'PAD', 'PAD']\n",
      "16\n"
     ]
    },
    {
     "name": "stderr",
     "output_type": "stream",
     "text": [
      "\n"
     ]
    }
   ],
   "source": [
    "model1 = Word2Vec(size = 256,sg=1,compute_loss=False,window=4,\n",
    "                 min_count=1,workers=8)\n",
    "model1.build_vocab(dataAll)  # prepare the model vocabulary\n",
    "model1.train(dataAll, total_examples=model1.corpus_count,queue_factor=6, epochs=40)\n",
    "model1.save(\"word2vec_256.model\")\n",
    "final_data = wordvecmatrix(model1,data)\n",
    "print(sentences1[2])\n",
    "print(len(final_data[\"question1\"][2]))\n",
    "print(sentences2[2])\n",
    "print(len(final_data[\"question2\"][2]))\n",
    "del dataAll"
   ]
  },
  {
   "cell_type": "code",
   "execution_count": 15,
   "metadata": {},
   "outputs": [
    {
     "name": "stdout",
     "output_type": "stream",
     "text": [
      "                                           question1  \\\n",
      "0  [[-0.047141794, -0.3430948, 0.033490896, -0.03...   \n",
      "1  [[-0.047141794, -0.3430948, 0.033490896, -0.03...   \n",
      "2  [[-0.036111936, -0.11472451, -0.19041245, -0.1...   \n",
      "3  [[-0.3146305, -0.16412322, 0.12478607, -0.1693...   \n",
      "4  [[0.1407505, -0.58020824, 0.13030632, 0.365536...   \n",
      "\n",
      "                                           question2  label  \n",
      "0  [[-0.047141794, -0.3430948, 0.033490896, -0.03...      0  \n",
      "1  [[-0.047141794, -0.3430948, 0.033490896, -0.03...      0  \n",
      "2  [[-0.036111936, -0.11472451, -0.19041245, -0.1...      0  \n",
      "3  [[0.26904523, 0.047650877, -0.62017524, 0.5677...      0  \n",
      "4  [[0.1407505, -0.58020824, 0.13030632, 0.365536...      0  \n"
     ]
    },
    {
     "ename": "AttributeError",
     "evalue": "'Model' object has no attribute 'wv'",
     "output_type": "error",
     "traceback": [
      "\u001b[0;31m---------------------------------------------------------------------------\u001b[0m",
      "\u001b[0;31mAttributeError\u001b[0m                            Traceback (most recent call last)",
      "\u001b[0;32m<ipython-input-15-cb87ba91cc9e>\u001b[0m in \u001b[0;36m<module>\u001b[0;34m\u001b[0m\n\u001b[1;32m      1\u001b[0m \u001b[0mprint\u001b[0m\u001b[0;34m(\u001b[0m\u001b[0mpd\u001b[0m\u001b[0;34m.\u001b[0m\u001b[0mDataFrame\u001b[0m\u001b[0;34m(\u001b[0m\u001b[0mfinal_data\u001b[0m\u001b[0;34m)\u001b[0m\u001b[0;34m.\u001b[0m\u001b[0mhead\u001b[0m\u001b[0;34m(\u001b[0m\u001b[0;36m5\u001b[0m\u001b[0;34m)\u001b[0m\u001b[0;34m)\u001b[0m\u001b[0;34m\u001b[0m\u001b[0;34m\u001b[0m\u001b[0m\n\u001b[0;32m----> 2\u001b[0;31m \u001b[0mcosine\u001b[0m\u001b[0;34m(\u001b[0m\u001b[0mmodel1\u001b[0m\u001b[0;34m.\u001b[0m\u001b[0mwv\u001b[0m\u001b[0;34m.\u001b[0m\u001b[0mword_vec\u001b[0m\u001b[0;34m(\u001b[0m\u001b[0;34m\"pad\"\u001b[0m\u001b[0;34m)\u001b[0m\u001b[0;34m,\u001b[0m\u001b[0mmodel1\u001b[0m\u001b[0;34m.\u001b[0m\u001b[0mwv\u001b[0m\u001b[0;34m.\u001b[0m\u001b[0mword_vec\u001b[0m\u001b[0;34m(\u001b[0m\u001b[0;34m\"money\"\u001b[0m\u001b[0;34m)\u001b[0m\u001b[0;34m)\u001b[0m\u001b[0;34m\u001b[0m\u001b[0;34m\u001b[0m\u001b[0m\n\u001b[0m",
      "\u001b[0;31mAttributeError\u001b[0m: 'Model' object has no attribute 'wv'"
     ]
    }
   ],
   "source": [
    "print(pd.DataFrame(final_data).head(5))\n",
    "cosine(model1.wv.word_vec(\"pad\"),model1.wv.word_vec(\"money\"))"
   ]
  },
  {
   "cell_type": "code",
   "execution_count": 113,
   "metadata": {},
   "outputs": [],
   "source": [
    "#split=int(0.8*len(final_data[\"label\"]))\n",
    "y=final_data[\"label\"]\n",
    "x1_train,x1_val,x2_train,x2_val,y_train,y_val = tts(final_data[\"question1\"],\n",
    "                                                    final_data[\"question2\"],\n",
    "                                                    y,test_size=0.2)\n",
    "\n",
    "x1_train = np.array(x1_train,dtype='float32')\n",
    "x1_val = np.array(x1_val,dtype='float32')\n",
    "x2_train = np.array(x2_train,dtype='float32')\n",
    "x2_val = np.array(x2_val,dtype='float32')\n",
    "y_train = np.array(y_train,dtype='float32')\n",
    "y_val = np.array(y_val,dtype='float32')\n",
    "\n",
    "\n",
    "#x1_train = np.asarray(final_data[\"question1\"][:split],dtype='float32')\n",
    "#x1_val = np.asarray(final_data[\"question1\"][split:],dtype='float32')\n",
    "#x2_train = np.asarray(final_data[\"question2\"][:split],dtype='float32')\n",
    "#x2_val = np.asarray(final_data[\"question2\"][split:],dtype='float32')\n",
    "#y_train = np.asarray(y[:split],dtype='float32')\n",
    "#y_val = np.asarray(y[split:],dtype='float32')\n",
    "\n",
    "TRAIN_SIZE = len(x1_train)\n",
    "VAL_SIZE = len(x1_val)\n",
    "gentrain = get_samples_2_inputs(x1_train,x2_train,y_train,batch_size=BATCH_SIZE)\n",
    "gentest = get_samples_2_inputs(x1_val,x2_val,y_val,BATCH_SIZE)"
   ]
  },
  {
   "cell_type": "code",
   "execution_count": 114,
   "metadata": {},
   "outputs": [
    {
     "name": "stdout",
     "output_type": "stream",
     "text": [
      "(323428, 16, 256)\n",
      "(323428, 16, 256)\n",
      "(80858, 16, 256)\n",
      "(80858, 16, 256)\n",
      "(323428,)\n",
      "(80858,)\n"
     ]
    }
   ],
   "source": [
    "print(x1_train.shape)\n",
    "print(x2_train.shape)\n",
    "print(x1_val.shape)\n",
    "print(x2_val.shape)\n",
    "print(y_train.shape)\n",
    "print(y_val.shape)"
   ]
  },
  {
   "cell_type": "markdown",
   "metadata": {},
   "source": [
    "Results of the embedding are returned as a list of sentences and their token embeddings, so each sentence is of the form<br>\n",
    "__(sentence,embeddings for each word)__"
   ]
  },
  {
   "cell_type": "markdown",
   "metadata": {},
   "source": [
    "### Now Build an LSTM model with 2 inputs and one output"
   ]
  },
  {
   "cell_type": "code",
   "execution_count": 115,
   "metadata": {},
   "outputs": [],
   "source": [
    "def step_decay(epoch):\n",
    "\tinitial_lrate = 0.001\n",
    "\tdrop = 0.5\n",
    "\tepochs_drop = 3\n",
    "\tlrate = initial_lrate * math.pow(drop, math.floor((1+epoch)/epochs_drop))\n",
    "\treturn lrate"
   ]
  },
  {
   "cell_type": "code",
   "execution_count": 116,
   "metadata": {},
   "outputs": [
    {
     "name": "stdout",
     "output_type": "stream",
     "text": [
      "Train on 340 samples, validate on 60 samples\n",
      "Epoch 1/1\n",
      "340/340 [==============================] - 4s 11ms/step - loss: 0.6443 - acc: 0.6324 - val_loss: 0.6846 - val_acc: 0.6167\n",
      "Model: \"model_12\"\n",
      "__________________________________________________________________________________________________\n",
      "Layer (type)                    Output Shape         Param #     Connected to                     \n",
      "==================================================================================================\n",
      "input1 (InputLayer)             (None, 16, 256)      0                                            \n",
      "__________________________________________________________________________________________________\n",
      "input2 (InputLayer)             (None, 16, 256)      0                                            \n",
      "__________________________________________________________________________________________________\n",
      "LSTM1 (LSTM)                    (None, 128)          197120      input1[0][0]                     \n",
      "__________________________________________________________________________________________________\n",
      "LSTM2 (LSTM)                    (None, 128)          197120      input2[0][0]                     \n",
      "__________________________________________________________________________________________________\n",
      "merge (Subtract)                (None, 128)          0           LSTM1[0][0]                      \n",
      "                                                                 LSTM2[0][0]                      \n",
      "__________________________________________________________________________________________________\n",
      "dense1 (Dense)                  (None, 64)           8256        merge[0][0]                      \n",
      "__________________________________________________________________________________________________\n",
      "output (Dense)                  (None, 1)            65          dense1[0][0]                     \n",
      "==================================================================================================\n",
      "Total params: 402,561\n",
      "Trainable params: 402,561\n",
      "Non-trainable params: 0\n",
      "__________________________________________________________________________________________________\n"
     ]
    }
   ],
   "source": [
    "model1_input = Input(shape=(x1_train.shape[1],x1_train.shape[2]),name=\"input1\")\n",
    "model1_LSTM = LSTM(128,return_sequences=False,activation='relu',\n",
    "                   dropout=0.45,recurrent_dropout=0.1,name=\"LSTM1\")(model1_input)\n",
    "model1 = Model(model1_input,model1_LSTM)\n",
    "\n",
    "model2_input = Input(shape=(x2_train.shape[1],x2_train.shape[2]),name='input2')\n",
    "model2_LSTM = LSTM(128,return_sequences=False,activation='relu',\n",
    "                   dropout=0.45,recurrent_dropout=0.1,name=\"LSTM2\")(model2_input)\n",
    "model2 = Model(model2_input,model2_LSTM)\n",
    "\n",
    "merged = subtract([model1_LSTM,model2_LSTM],name=\"merge\")\n",
    "#model_merged_LSTM = LSTM(64,return_sequences=False,activation='relu',dropout=0.4,recurrent_dropout=0.1,name=\"LSTM_merge\")(merged)\n",
    "Dense_merged1 = Dense(64,activation=\"relu\",name=\"dense1\")(merged)\n",
    "model_merged_out = Dense(1,activation=\"sigmoid\",name=\"output\")(Dense_merged1)\n",
    "model=Model([model1_input,model2_input],model_merged_out)\n",
    "\n",
    "adam = Adam(lr=0.001, beta_1=0.9, beta_2=0.998)\n",
    "model.compile(adam, loss ='binary_crossentropy', metrics=['accuracy'])\n",
    "\n",
    "lrate = LearningRateScheduler(step_decay)\n",
    "earlystopper = EarlyStopping(monitor='val_loss', patience=10, verbose=1,restore_best_weights=True)\n",
    "callbacks_list = [lrate,earlystopper]\n",
    "model.fit([x1_train[:400],x2_train[:400]], y_train[:400],\n",
    "          epochs=1,\n",
    "          verbose=1,\n",
    "          batch_size=32,\n",
    "          validation_split=0.15,\n",
    "          callbacks=callbacks_list)\n",
    "model.summary()"
   ]
  },
  {
   "cell_type": "code",
   "execution_count": 117,
   "metadata": {},
   "outputs": [
    {
     "name": "stdout",
     "output_type": "stream",
     "text": [
      "Epoch 1/40\n",
      "5053/5053 [==============================] - 226s 45ms/step - loss: 0.5331 - acc: 0.7308 - val_loss: 0.4909 - val_acc: 0.7592\n",
      "Epoch 2/40\n",
      "5053/5053 [==============================] - 226s 45ms/step - loss: 0.4868 - acc: 0.7600 - val_loss: 0.4681 - val_acc: 0.7690\n",
      "Epoch 3/40\n",
      "5053/5053 [==============================] - 226s 45ms/step - loss: 0.4575 - acc: 0.7765 - val_loss: 0.4545 - val_acc: 0.7788\n",
      "Epoch 4/40\n",
      "5053/5053 [==============================] - 226s 45ms/step - loss: 0.4445 - acc: 0.7839 - val_loss: 0.4454 - val_acc: 0.7833\n",
      "Epoch 5/40\n",
      "5053/5053 [==============================] - 226s 45ms/step - loss: 0.4349 - acc: 0.7892 - val_loss: 0.4368 - val_acc: 0.7889\n",
      "Epoch 6/40\n",
      "5053/5053 [==============================] - 226s 45ms/step - loss: 0.4231 - acc: 0.7962 - val_loss: 0.4307 - val_acc: 0.7928\n",
      "Epoch 7/40\n",
      "5053/5053 [==============================] - 226s 45ms/step - loss: 0.4146 - acc: 0.8014 - val_loss: 0.4316 - val_acc: 0.7929\n",
      "Epoch 8/40\n",
      "5053/5053 [==============================] - 226s 45ms/step - loss: 0.4092 - acc: 0.8036 - val_loss: 0.4234 - val_acc: 0.7976\n",
      "Epoch 9/40\n",
      "5053/5053 [==============================] - 226s 45ms/step - loss: 0.4056 - acc: 0.8050 - val_loss: 0.4239 - val_acc: 0.7959\n",
      "Epoch 10/40\n",
      "5053/5053 [==============================] - 226s 45ms/step - loss: 0.4008 - acc: 0.8084 - val_loss: 0.4227 - val_acc: 0.7966\n",
      "Epoch 11/40\n",
      "5053/5053 [==============================] - 226s 45ms/step - loss: 0.3995 - acc: 0.8087 - val_loss: 0.4208 - val_acc: 0.7993\n",
      "Epoch 12/40\n",
      "5053/5053 [==============================] - 226s 45ms/step - loss: 0.3938 - acc: 0.8123 - val_loss: 0.4220 - val_acc: 0.7979\n",
      "Epoch 13/40\n",
      "5053/5053 [==============================] - 226s 45ms/step - loss: 0.3942 - acc: 0.8120 - val_loss: 0.4196 - val_acc: 0.7990\n",
      "Epoch 14/40\n",
      "5053/5053 [==============================] - 226s 45ms/step - loss: 0.3907 - acc: 0.8143 - val_loss: 0.4180 - val_acc: 0.8013\n",
      "Epoch 15/40\n",
      "5053/5053 [==============================] - 226s 45ms/step - loss: 0.3895 - acc: 0.8145 - val_loss: 0.4209 - val_acc: 0.7986\n",
      "Epoch 16/40\n",
      "5053/5053 [==============================] - 226s 45ms/step - loss: 0.3904 - acc: 0.8141 - val_loss: 0.4147 - val_acc: 0.8032\n",
      "Epoch 17/40\n",
      "5053/5053 [==============================] - 226s 45ms/step - loss: 0.3865 - acc: 0.8166 - val_loss: 0.4176 - val_acc: 0.8002\n",
      "Epoch 18/40\n",
      "5053/5053 [==============================] - 226s 45ms/step - loss: 0.3857 - acc: 0.8164 - val_loss: 0.4143 - val_acc: 0.8018\n",
      "Epoch 19/40\n",
      "5053/5053 [==============================] - 226s 45ms/step - loss: 0.3871 - acc: 0.8154 - val_loss: 0.4149 - val_acc: 0.8028\n",
      "Epoch 20/40\n",
      "5053/5053 [==============================] - 226s 45ms/step - loss: 0.3867 - acc: 0.8165 - val_loss: 0.4173 - val_acc: 0.8000\n",
      "Epoch 21/40\n",
      "5053/5053 [==============================] - 226s 45ms/step - loss: 0.3870 - acc: 0.8162 - val_loss: 0.4153 - val_acc: 0.8012\n",
      "Epoch 22/40\n",
      "5053/5053 [==============================] - 226s 45ms/step - loss: 0.3872 - acc: 0.8158 - val_loss: 0.4161 - val_acc: 0.8030\n",
      "Epoch 23/40\n",
      "5053/5053 [==============================] - 226s 45ms/step - loss: 0.3854 - acc: 0.8171 - val_loss: 0.4189 - val_acc: 0.8004\n",
      "Epoch 24/40\n",
      "5053/5053 [==============================] - 226s 45ms/step - loss: 0.3868 - acc: 0.8157 - val_loss: 0.4189 - val_acc: 0.7992\n",
      "Epoch 25/40\n",
      "5053/5053 [==============================] - 226s 45ms/step - loss: 0.3859 - acc: 0.8173 - val_loss: 0.4169 - val_acc: 0.8012\n",
      "Epoch 26/40\n",
      "5053/5053 [==============================] - 226s 45ms/step - loss: 0.3853 - acc: 0.8166 - val_loss: 0.4164 - val_acc: 0.8001\n",
      "Epoch 27/40\n",
      "5053/5053 [==============================] - 226s 45ms/step - loss: 0.3840 - acc: 0.8178 - val_loss: 0.4138 - val_acc: 0.8027\n",
      "Epoch 28/40\n",
      "5053/5053 [==============================] - 226s 45ms/step - loss: 0.3841 - acc: 0.8178 - val_loss: 0.4175 - val_acc: 0.8012\n",
      "Epoch 29/40\n",
      "5053/5053 [==============================] - 226s 45ms/step - loss: 0.3870 - acc: 0.8157 - val_loss: 0.4166 - val_acc: 0.8025\n",
      "Epoch 30/40\n",
      "5053/5053 [==============================] - 226s 45ms/step - loss: 0.3853 - acc: 0.8177 - val_loss: 0.4184 - val_acc: 0.7997\n",
      "Epoch 31/40\n",
      "5053/5053 [==============================] - 226s 45ms/step - loss: 0.3848 - acc: 0.8176 - val_loss: 0.4150 - val_acc: 0.8017\n",
      "Epoch 32/40\n",
      "5053/5053 [==============================] - 226s 45ms/step - loss: 0.3837 - acc: 0.8179 - val_loss: 0.4180 - val_acc: 0.8002\n",
      "Epoch 33/40\n",
      "5053/5053 [==============================] - 226s 45ms/step - loss: 0.3850 - acc: 0.8169 - val_loss: 0.4211 - val_acc: 0.7988\n",
      "Epoch 34/40\n",
      "5053/5053 [==============================] - 226s 45ms/step - loss: 0.3856 - acc: 0.8167 - val_loss: 0.4128 - val_acc: 0.8030\n",
      "Epoch 35/40\n",
      "5053/5053 [==============================] - 226s 45ms/step - loss: 0.3848 - acc: 0.8167 - val_loss: 0.4162 - val_acc: 0.8013\n",
      "Epoch 36/40\n",
      "5053/5053 [==============================] - 226s 45ms/step - loss: 0.3849 - acc: 0.8170 - val_loss: 0.4159 - val_acc: 0.8014\n",
      "Epoch 37/40\n",
      "5053/5053 [==============================] - 226s 45ms/step - loss: 0.3860 - acc: 0.8158 - val_loss: 0.4151 - val_acc: 0.8031\n",
      "Epoch 38/40\n",
      "5053/5053 [==============================] - 226s 45ms/step - loss: 0.3864 - acc: 0.8157 - val_loss: 0.4154 - val_acc: 0.8009\n",
      "Epoch 39/40\n",
      "5053/5053 [==============================] - 226s 45ms/step - loss: 0.3836 - acc: 0.8181 - val_loss: 0.4210 - val_acc: 0.7999\n",
      "Epoch 40/40\n",
      "5053/5053 [==============================] - 226s 45ms/step - loss: 0.3875 - acc: 0.8161 - val_loss: 0.4127 - val_acc: 0.8033\n"
     ]
    }
   ],
   "source": [
    "model.fit_generator(gentrain, \n",
    "                     steps_per_epoch=TRAIN_SIZE//BATCH_SIZE,\n",
    "                     verbose=1,\n",
    "                     validation_data=gentest,\n",
    "                     validation_steps=VAL_SIZE//BATCH_SIZE,\n",
    "                     epochs=NUM_EPOCHS,\n",
    "                     workers=8,\n",
    "                     use_multiprocessing=False,\n",
    "                     callbacks=callbacks_list)\n",
    "model.save('my_model_siamese_Lstm_final.h5')"
   ]
  },
  {
   "cell_type": "code",
   "execution_count": 118,
   "metadata": {},
   "outputs": [
    {
     "data": {
      "image/png": "[encoded data removed]",
      "text/plain": [
       "<Figure size 432x288 with 1 Axes>"
      ]
     },
     "metadata": {
      "needs_background": "light"
     },
     "output_type": "display_data"
    },
    {
     "data": {
      "image/png": "[encoded data removed]",
      "text/plain": [
       "<Figure size 432x288 with 1 Axes>"
      ]
     },
     "metadata": {
      "needs_background": "light"
     },
     "output_type": "display_data"
    }
   ],
   "source": [
    "plt.plot(model.history.history['acc'])\n",
    "plt.plot(model.history.history['val_acc'])\n",
    "plt.title('Model accuracy')\n",
    "plt.ylabel('Accuracy')\n",
    "plt.xlabel('Epoch')\n",
    "plt.legend(['Train', 'Test'], loc='upper left')\n",
    "plt.show()\n",
    "\n",
    "# Plot training & validation loss values\n",
    "plt.plot(model.history.history['loss'])\n",
    "plt.plot(model.history.history['val_loss'])\n",
    "plt.title('Model loss')\n",
    "plt.ylabel('Loss')\n",
    "plt.xlabel('Epoch')\n",
    "plt.legend(['Train', 'Test'], loc='upper left')\n",
    "plt.show()"
   ]
  },
  {
   "cell_type": "code",
   "execution_count": 119,
   "metadata": {},
   "outputs": [
    {
     "name": "stdout",
     "output_type": "stream",
     "text": [
      "80858/80858 [==============================] - 21s 262us/step\n"
     ]
    },
    {
     "data": {
      "text/plain": [
       "[0.4162074076711841, 0.8015409730668384]"
      ]
     },
     "execution_count": 119,
     "metadata": {},
     "output_type": "execute_result"
    }
   ],
   "source": [
    "#model = load_model('my_model_lstm256_word2vec.h5')\n",
    "model.evaluate([x1_val,x2_val],y=y_val,\n",
    "              batch_size=BATCH_SIZE)"
   ]
  },
  {
   "cell_type": "code",
   "execution_count": 4,
   "metadata": {},
   "outputs": [],
   "source": [
    "def inference(x1,x2):\n",
    "    #tokenize and pad\n",
    "    x1=wt(x1.lower().strip())\n",
    "    x2=wt(x2.lower().strip())\n",
    "    \n",
    "    if len(x1)>=16:\n",
    "        x1=x1[:16]\n",
    "    else:\n",
    "        while(len(x1)<16):\n",
    "            x1.append(\"pad\")\n",
    "            \n",
    "    if len(x2)>=16:\n",
    "        x2=x2[:16]\n",
    "    else:\n",
    "        while(len(x2)<16):\n",
    "            x2.append(\"pad\")\n",
    "    \n",
    "    print(\"--------words----------\")\n",
    "    print(x1)\n",
    "    print(x2)\n",
    "    \n",
    "    model1 = Word2Vec.load(\"word2vec_256.model\")\n",
    "    siamese_model = load_model('my_model_siamese_Lstm_final.h5')\n",
    "    q1=[]\n",
    "    q2=[]\n",
    "    label=[]\n",
    "    for word in x1:\n",
    "        try:\n",
    "            q1.append(model1.wv.word_vec(word))\n",
    "        except Exception as e:\n",
    "            q1.append(model1.wv.word_vec(\"pad\"))\n",
    "            continue\n",
    "    for word2 in x2:\n",
    "        try:\n",
    "            q2.append(model1.wv.word_vec(word2))\n",
    "        except Exception as e2:\n",
    "            q2.append(model1.wv.word_vec(\"pad\"))\n",
    "            continue\n",
    "    \n",
    "    x1 = np.asarray(q1,dtype='float32').reshape((1,16,256))\n",
    "    x2 = np.asarray(q2,dtype='float32').reshape((1,16,256))\n",
    "    sim_prob = siamese_model.predict([x1,x2])\n",
    "    return sim_prob\n",
    "    "
   ]
  },
  {
   "cell_type": "code",
   "execution_count": 9,
   "metadata": {},
   "outputs": [],
   "source": [
    "string1 = \"How is equity described in a formal offer letter ?\"\n",
    "string2 = \"Predicted positive probability offer letter ?\""
   ]
  },
  {
   "cell_type": "code",
   "execution_count": 10,
   "metadata": {},
   "outputs": [
    {
     "name": "stdout",
     "output_type": "stream",
     "text": [
      "--------words----------\n",
      "['how', 'is', 'equity', 'described', 'in', 'a', 'formal', 'offer', 'letter', '?', 'pad', 'pad', 'pad', 'pad', 'pad', 'pad']\n",
      "['predicted', 'positive', 'probability', 'offer', 'letter', '?', 'pad', 'pad', 'pad', 'pad', 'pad', 'pad', 'pad', 'pad', 'pad', 'pad']\n",
      "Predicted positive probability: 0.31058604\n",
      "true label: 0\n"
     ]
    }
   ],
   "source": [
    "prob=inference(string1,string2)[0][0]\n",
    "print(\"Predicted positive probability: %s\"%prob)\n",
    "print(\"true label: %s\"%0)"
   ]
  },
  {
   "cell_type": "code",
   "execution_count": null,
   "metadata": {},
   "outputs": [],
   "source": []
  }
 ],
 "metadata": {
  "kernelspec": {
   "display_name": "Python 3",
   "language": "python",
   "name": "python3"
  },
  "language_info": {
   "codemirror_mode": {
    "name": "ipython",
    "version": 3
   },
   "file_extension": ".py",
   "mimetype": "text/x-python",
   "name": "python",
   "nbconvert_exporter": "python",
   "pygments_lexer": "ipython3",
   "version": "3.7.4"
  }
 },
 "nbformat": 4,
 "nbformat_minor": 4
}
