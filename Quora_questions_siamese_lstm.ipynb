{
 "cells": [
  {
   "cell_type": "markdown",
   "metadata": {},
   "source": [
    "##  Moseli Motsoehli\n",
    "\n",
    "### Seq to Seq model for comparing text similarity."
   ]
  },
  {
   "cell_type": "markdown",
   "metadata": {},
   "source": [
    "__I use the quora question pairs dataset as a test for this although the model is eventually used for text transcribed from recorded speech as a way to evaluate  public speaking__\n",
    "\n",
    "I reuse mose of my code from a combination of a text summarization project with Jan Platos and preprocessing from a topic modelling project for ICS661. "
   ]
  },
  {
   "cell_type": "code",
   "execution_count": 16,
   "metadata": {},
   "outputs": [],
   "source": [
    "#### Libraries\n",
    "import numpy as np\n",
    "import scipy as sc\n",
    "import pandas as pd\n",
    "import logging\n",
    "from collections import Counter\n",
    "from  tqdm import tqdm\n",
    "from tabulate import tabulate\n",
    "from Generator import *\n",
    "\n",
    "import os\n",
    "import re\n",
    "import nltk\n",
    "from nltk.tokenize import word_tokenize as wt\n",
    "from sklearn.model_selection import train_test_split as tts\n",
    "\n",
    "import matplotlib.pyplot as plt\n",
    "\n",
    "import keras\n",
    "from keras.preprocessing.sequence import pad_sequences\n",
    "from keras.preprocessing.text import one_hot\n",
    "from keras import backend as k\n",
    "#k.set_learning_phase(1)\n",
    "from keras import initializers\n",
    "from keras.optimizers import RMSprop\n",
    "from keras.models import Model,Sequential\n",
    "from keras.layers import Dense,LSTM,Input,Activation,Flatten,concatenate,Reshape,Embedding,Bidirectional,Dropout\n",
    "from keras.callbacks import ModelCheckpoint\n",
    "from keras.models import load_model\n",
    "from keras.utils import to_categorical\n",
    "\n",
    "#bert\n",
    "#from bert_embedding import BertEmbedding as Bert\n",
    "\n",
    "#model Freezing\n",
    "#import tensorflow as tf\n",
    "# freeze_graph \"screenshots\" the graph\n",
    "#from tensorflow.python.tools import freeze_graph\n",
    "# optimize_for_inference lib optimizes this frozen graph\n",
    "#from tensorflow.python.tools import optimize_for_inference"
   ]
  },
  {
   "cell_type": "markdown",
   "metadata": {},
   "source": [
    "## Constants"
   ]
  },
  {
   "cell_type": "code",
   "execution_count": 3,
   "metadata": {},
   "outputs": [],
   "source": [
    "STRING_SIZE=15\n",
    "BATCH_SIZE=32\n",
    "NUM_EPOCHS = 30\n",
    "EMBEDDING_SIZE=256"
   ]
  },
  {
   "cell_type": "markdown",
   "metadata": {},
   "source": [
    "## Load Dataset"
   ]
  },
  {
   "cell_type": "code",
   "execution_count": 4,
   "metadata": {},
   "outputs": [
    {
     "name": "stdout",
     "output_type": "stream",
     "text": [
      "Number of examples: 2000\n",
      "Number of examples after removing NA: 2000\n",
      "\n",
      "\n",
      "   id  qid1  qid2                                          question1  \\\n",
      "0   0     1     2  What is the step by step guide to invest in sh...   \n",
      "1   1     3     4  What is the story of Kohinoor (Koh-i-Noor) Dia...   \n",
      "\n",
      "                                           question2  is_duplicate  \n",
      "0  What is the step by step guide to invest in sh...             0  \n",
      "1  What would happen if the Indian government sto...             0  \n",
      "\n",
      "\n",
      "        id  qid1  qid2                                          question1  \\\n",
      "1998  1998  3975  3976  What are some of the best tourist places to vi...   \n",
      "1999  1999  3977  3978  What are the differences between a love marria...   \n",
      "\n",
      "                                              question2  is_duplicate  \n",
      "1998  Where are the foremost tourist places in Chhat...             1  \n",
      "1999  Which is better: an arranged marriage or a lov...             0  \n",
      "\n",
      "\n",
      "propotion of positives: 0.371\n"
     ]
    }
   ],
   "source": [
    "datafile = \"train.csv\"\n",
    "\n",
    "data =  pd.read_csv(datafile,sep=\",\")[:][:2000]\n",
    "print(\"Number of examples: %s\"%len(data))\n",
    "data=data.dropna(subset=['question1','question2', 'is_duplicate'])\n",
    "data=data.reset_index(drop=True)\n",
    "print(\"Number of examples after removing NA: %s\"%len(data))\n",
    "print(\"\\n\")\n",
    "print(data.head(2))\n",
    "print(\"\\n\")\n",
    "print(data.tail(2))\n",
    "print(\"\\n\")\n",
    "print(\"propotion of positives: %s\"%np.mean(data[\"is_duplicate\"]))"
   ]
  },
  {
   "cell_type": "markdown",
   "metadata": {},
   "source": [
    "### Preprocessing addopted from my Topic Model in ICS661 AKA Thematron"
   ]
  },
  {
   "cell_type": "code",
   "execution_count": 5,
   "metadata": {},
   "outputs": [],
   "source": [
    "def remove_special(text):\n",
    "    special_chars = \"[~#$%^@&*&()+-_\\\",?!.:[]\\\\;><`|{}=\\/\\'=»¿シし]\"\n",
    "    for k in special_chars:\n",
    "            if type(text) == str:\n",
    "                if k==\"-\" or k==\"_\":\n",
    "                    text=text.replace(k, \"\")\n",
    "                else:\n",
    "                    text=text.replace(k, \" \")       \n",
    "    return text\n",
    "\n",
    "def contractions(sent):\n",
    "    sub_pattern = [(\"will not\",\"won't\"),(\"shall not\",\"shan't\"),\n",
    "                (\" not\", \"n\\'t\"),(\" will\",\"\\'ll\"),(\" is\",\"\\'s\"),\n",
    "                   (\" am\",\"\\'m\"),(\" are\",\"\\'re\"),(\" is\",\"who\\'s\")]\n",
    "    sent2=sent.split(\" \")\n",
    "    hold = \"\"\n",
    "    for k in range(len(sent2)):\n",
    "        kk = sent2[k]\n",
    "        for rep in range(len(sub_pattern)):\n",
    "            kk = re.sub(sub_pattern[rep][1],sub_pattern[rep][0],kk)\n",
    "        hold = hold + \" \" + kk\n",
    "    return hold.lower()\n",
    "\n",
    "def remove_stop_words(text):\n",
    "    stops =  set(stopwords.words('english'))\n",
    "    stops1 = [word.lower() for word in stops]\n",
    "    punctuation = [',','.','!','?',';','-']\n",
    "    hold = []\n",
    "    if type(text) == list:\n",
    "        for word in range(len(text)):\n",
    "            if text[word].lower() in stops1 or text[word].lower() in punctuation or text[word].lower() == \"xxxxxx\":\n",
    "                continue\n",
    "            else:\n",
    "                hold.append(text[word].lower())\n",
    "    return hold\n",
    "\n",
    "def wordTok(sent):\n",
    "    tok = wt(sent)\n",
    "    return tok\n",
    "\n",
    "def pipeline(text):\n",
    "    text = contractions(text)\n",
    "    text = remove_special(text)\n",
    "    textToks = wordTok(text)\n",
    "    #textToks = remove_stop_words(textToks)\n",
    "    final = \"\"\n",
    "    for k in range(len(textToks)):\n",
    "            final = final+textToks[k]+\" \"\n",
    "    return final.strip().lower()\n",
    "\n",
    "########################################################\n",
    "########create corpus and create word vectors and training data###########\n",
    "\n",
    "def sequence_padding(stringlist):\n",
    "    newstring = pad_sequences(stringlist, maxlen=STRING_SIZE,\n",
    "                              dtype=object,padding='post',\n",
    "                              truncating='post', value=\"PAD\")\n",
    "    return newstring\n",
    "\n",
    "def list2string(listinput):\n",
    "    hold=\"\"\n",
    "    for k in listinput:\n",
    "        hold = hold +k.strip()+\" \"\n",
    "    return hold.strip()\n",
    "\n",
    "def createCorpus(t):\n",
    "    \"stuff\"\n",
    "    return all_words"
   ]
  },
  {
   "cell_type": "code",
   "execution_count": 6,
   "metadata": {},
   "outputs": [
    {
     "name": "stdout",
     "output_type": "stream",
     "text": [
      "Show two comparison sentences\n",
      "--------------------------------------------\n",
      "1:  what is the story of kohinoor kohinoor diamond\n",
      "--------------------------------------------\n",
      "2:  what would happen if the indian government stole the kohinoor kohinoor diamond back\n",
      "--------------------------------------------\n",
      "0\n"
     ]
    }
   ],
   "source": [
    "data[\"question1\"] = list(map(pipeline,data[\"question1\"]))\n",
    "data[\"question2\"] = list(map(pipeline,data[\"question2\"]))\n",
    "\n",
    "\n",
    "print(\"Show two comparison sentences\")\n",
    "print(\"--------------------------------------------\")\n",
    "print(\"1: \",data[\"question1\"][1])\n",
    "print(\"--------------------------------------------\")\n",
    "print(\"2: \",data[\"question2\"][1])\n",
    "print(\"--------------------------------------------\")\n",
    "print(data[\"is_duplicate\"][1])"
   ]
  },
  {
   "cell_type": "markdown",
   "metadata": {},
   "source": [
    "### Prepare to create numeric vectors"
   ]
  },
  {
   "cell_type": "code",
   "execution_count": 7,
   "metadata": {},
   "outputs": [
    {
     "name": "stdout",
     "output_type": "stream",
     "text": [
      "6337\n"
     ]
    }
   ],
   "source": [
    "allWords = \"\"\n",
    "for k in range (len(data[\"question1\"])):\n",
    "    allWords=allWords+data[\"question1\"][k].strip().lower()+\" \"\n",
    "    allWords=allWords+data[\"question2\"][k].strip().lower()+\" \"\n",
    "allcount = len(set(wt(allWords)))\n",
    "print(allcount)\n",
    "del allWords"
   ]
  },
  {
   "cell_type": "code",
   "execution_count": 8,
   "metadata": {},
   "outputs": [
    {
     "name": "stdout",
     "output_type": "stream",
     "text": [
      "[3479, 6215, 2839, 5891, 4496, 2969, 2969, 970]\n",
      "[3479, 2565, 1844, 5142, 2839, 888, 1290, 283, 2839, 2969, 2969, 970, 5582]\n",
      "3\n",
      "3\n"
     ]
    }
   ],
   "source": [
    "####Truncade and Pad to 20 words max\n",
    "filters = '!\"#$%&()*+,-./:;<=>?@[\\\\]^_`{|}~\\t\\n»¿シし'\n",
    "sent1=[one_hot(text.replace(\"-\",\"\"), allcount, filters=filters, lower=True, split=' ') for text in  data[\"question1\"]]\n",
    "sent2=[one_hot(text.replace(\"-\",\"\"), allcount, filters=filters, lower=True, split=' ') for text in  data[\"question2\"]]\n",
    "\n",
    "print(sent1[1])\n",
    "print(sent2[1])\n",
    "\n",
    "print(min([len(y) for y in sent2]))\n",
    "print(min([len(y) for y in sent2]))"
   ]
  },
  {
   "cell_type": "markdown",
   "metadata": {},
   "source": [
    "#### show text length distribution to decide cutoff"
   ]
  },
  {
   "cell_type": "code",
   "execution_count": 9,
   "metadata": {},
   "outputs": [
    {
     "data": {
      "text/plain": [
       "[<matplotlib.lines.Line2D at 0x1e967963320>]"
      ]
     },
     "execution_count": 9,
     "metadata": {},
     "output_type": "execute_result"
    },
    {
     "data": {
      "image/png": "[encoded data removed]",
      "text/plain": [
       "<Figure size 432x288 with 1 Axes>"
      ]
     },
     "metadata": {
      "needs_background": "light"
     },
     "output_type": "display_data"
    }
   ],
   "source": [
    "plt.plot([len(x) for x in sent1])\n",
    "plt.plot([len(y) for y in sent2])\n",
    "plt.plot([len(sent1[x])-len(sent2[x]) for x in range(len(sent1))])"
   ]
  },
  {
   "cell_type": "code",
   "execution_count": 10,
   "metadata": {},
   "outputs": [],
   "source": [
    "sent1pad = pad_sequences(sent1, maxlen=STRING_SIZE,padding='post',truncating='post')\n",
    "sent2pad = pad_sequences(sent2,maxlen=STRING_SIZE,padding='post',truncating='post')"
   ]
  },
  {
   "cell_type": "markdown",
   "metadata": {},
   "source": [
    "__After padding__"
   ]
  },
  {
   "cell_type": "code",
   "execution_count": 11,
   "metadata": {},
   "outputs": [
    {
     "data": {
      "text/plain": [
       "[<matplotlib.lines.Line2D at 0x1e9665ea320>]"
      ]
     },
     "execution_count": 11,
     "metadata": {},
     "output_type": "execute_result"
    },
    {
     "data": {
      "image/png": "[encoded data removed]",
      "text/plain": [
       "<Figure size 432x288 with 1 Axes>"
      ]
     },
     "metadata": {
      "needs_background": "light"
     },
     "output_type": "display_data"
    }
   ],
   "source": [
    "plt.plot([len(x) for x in sent1pad])\n",
    "plt.plot([len(y) for y in sent2pad])"
   ]
  },
  {
   "cell_type": "code",
   "execution_count": 12,
   "metadata": {},
   "outputs": [],
   "source": [
    "split=int(0.8*len(sent1pad))\n",
    "#x_train,x_test,y_train,y_test = tts(sentall,y,test_size=0.2)\n",
    "#x_train,x_val,y_train,y_val = tts(x_train,y_train,test_size=0.1)\n",
    "y = to_categorical(data[\"is_duplicate\"])\n",
    "x1_train = sent1pad[:split]\n",
    "x1_val = sent2pad[split:]\n",
    "x2_train = sent2pad[:split]\n",
    "x2_val = sent1pad[split:]\n",
    "y_train = y[:split]\n",
    "y_val = y[split:]\n",
    "\n",
    "x1_train = np.asarray(x1_train,dtype='float32')\n",
    "x1_val = np.asarray(x1_val,dtype='float32')\n",
    "x2_train = np.asarray(x2_train,dtype='float32')\n",
    "x2_val = np.asarray(x2_val,dtype='float32')\n",
    "y_train = np.asarray(y_train,dtype='float32')\n",
    "y_val = np.asarray(y_val,dtype='float32')\n",
    "\n",
    "TRAIN_SIZE = len(x1_train)\n",
    "VAL_SIZE = len(x1_val)"
   ]
  },
  {
   "cell_type": "markdown",
   "metadata": {},
   "source": [
    "### Instantiate the 2 generatores"
   ]
  },
  {
   "cell_type": "code",
   "execution_count": 13,
   "metadata": {},
   "outputs": [
    {
     "name": "stdout",
     "output_type": "stream",
     "text": [
      "(1600, 15)\n",
      "(1600, 2)\n"
     ]
    }
   ],
   "source": [
    "print(x1_train.shape)\n",
    "print(y_train.shape)\n",
    "gentrain = get_samples_2_inputs(x1_train,x2_train,y_train,BATCH_SIZE)\n",
    "gentest = get_samples_2_inputs(x1_val,x2_val,y_val,BATCH_SIZE)"
   ]
  },
  {
   "cell_type": "markdown",
   "metadata": {},
   "source": [
    "Results of the embedding are returned as a list of sentences and their token embeddings, so each sentence is of the form<br>\n",
    "__(sentence,embeddings for each word)__"
   ]
  },
  {
   "cell_type": "code",
   "execution_count": 14,
   "metadata": {},
   "outputs": [],
   "source": [
    "del sent1pad\n",
    "del sent2pad\n",
    "del data\n",
    "del sent1\n",
    "del sent2"
   ]
  },
  {
   "cell_type": "markdown",
   "metadata": {},
   "source": [
    "### Now Build an LSTM model with 2 inputs and one output"
   ]
  },
  {
   "cell_type": "code",
   "execution_count": 21,
   "metadata": {},
   "outputs": [
    {
     "name": "stdout",
     "output_type": "stream",
     "text": [
      "Train on 80 samples, validate on 20 samples\n",
      "Epoch 1/1\n",
      " - 4s - loss: 0.6682 - accuracy: 0.5750 - val_loss: 0.6612 - val_accuracy: 0.6500\n",
      "Model: \"model_11\"\n",
      "__________________________________________________________________________________________________\n",
      "Layer (type)                    Output Shape         Param #     Connected to                     \n",
      "==================================================================================================\n",
      "input1 (InputLayer)             (None, 15)           0                                            \n",
      "__________________________________________________________________________________________________\n",
      "input2 (InputLayer)             (None, 15)           0                                            \n",
      "__________________________________________________________________________________________________\n",
      "embedding1 (Embedding)          (None, 15, 256)      1622272     input1[0][0]                     \n",
      "__________________________________________________________________________________________________\n",
      "embedding2 (Embedding)          (None, 15, 256)      1622272     input2[0][0]                     \n",
      "__________________________________________________________________________________________________\n",
      "LSTM1 (LSTM)                    (None, 256)          525312      embedding1[0][0]                 \n",
      "__________________________________________________________________________________________________\n",
      "LSTM2 (LSTM)                    (None, 256)          525312      embedding2[0][0]                 \n",
      "__________________________________________________________________________________________________\n",
      "merge (Concatenate)             (None, 512)          0           LSTM1[0][0]                      \n",
      "                                                                 LSTM2[0][0]                      \n",
      "__________________________________________________________________________________________________\n",
      "LSTM_merge (Dense)              (None, 512)          262656      merge[0][0]                      \n",
      "__________________________________________________________________________________________________\n",
      "output (Dense)                  (None, 2)            1026        LSTM_merge[0][0]                 \n",
      "==================================================================================================\n",
      "Total params: 4,558,850\n",
      "Trainable params: 4,558,850\n",
      "Non-trainable params: 0\n",
      "__________________________________________________________________________________________________\n"
     ]
    }
   ],
   "source": [
    "model1_input = Input(shape=(x1_train.shape[1],),name=\"input1\")\n",
    "model1_embedding = Embedding(allcount,output_dim=EMBEDDING_SIZE,input_length=STRING_SIZE,name=\"embedding1\")(model1_input)\n",
    "model1_LSTM = LSTM(256,return_sequences=False,activation='relu',dropout=0.4,name=\"LSTM1\")(model1_embedding)\n",
    "model1 = Model(model1_input,model1_LSTM)\n",
    "\n",
    "model2_input = Input(shape=(x2_train.shape[1],),name='input2')\n",
    "model2_embedding = Embedding(allcount,output_dim=EMBEDDING_SIZE,input_length=STRING_SIZE,name=\"embedding2\")(model2_input)\n",
    "model2_LSTM = LSTM(256,return_sequences=False,activation='relu',dropout=0.4,name=\"LSTM2\")(model2_embedding)\n",
    "model2 = Model(model2_input,model2_LSTM)\n",
    "\n",
    "merged = concatenate([model1_LSTM,model2_LSTM],name=\"merge\")\n",
    "#model_merged_LSTM = LSTM(512,return_sequences=False,activation='relu',dropout=0.4,name=\"LSTM_merge\")(merged)\n",
    "model_merged_LSTM = Dense(512,activation=\"relu\",name=\"LSTM_merge\")(merged)\n",
    "model_merged_out = Dense(2,activation=\"softmax\",name=\"output\")(model_merged_LSTM)\n",
    "model=Model([model1_input,model2_input],model_merged_out)\n",
    "\n",
    "model.compile(\"adam\", loss ='categorical_crossentropy', metrics=['accuracy'])\n",
    "model.fit([x1_train[:100],x2_train[:100]], y_train[:100],\n",
    "          epochs=1,\n",
    "          verbose=2,\n",
    "          batch_size=4,\n",
    "          validation_split=0.2)\n",
    "model.summary()"
   ]
  },
  {
   "cell_type": "code",
   "execution_count": 22,
   "metadata": {},
   "outputs": [
    {
     "name": "stdout",
     "output_type": "stream",
     "text": [
      "Epoch 1/30\n",
      " - 6s - loss: 0.6413 - accuracy: 0.6206\n",
      "Epoch 2/30\n",
      " - 6s - loss: 0.5409 - accuracy: 0.7163\n",
      "Epoch 3/30\n",
      " - 6s - loss: 0.3506 - accuracy: 0.8462\n",
      "Epoch 4/30\n",
      " - 7s - loss: 0.2553 - accuracy: 0.9119\n",
      "Epoch 5/30\n",
      " - 6s - loss: 0.1763 - accuracy: 0.9331 - val_loss: 0.8041 - val_accuracy: 0.6562\n",
      "Epoch 6/30\n",
      " - 6s - loss: 0.0866 - accuracy: 0.9675 - val_loss: 0.8041 - val_accuracy: 0.6562\n",
      "Epoch 7/30\n",
      " - 6s - loss: 0.3696 - accuracy: 0.9731 - val_loss: 0.8041 - val_accuracy: 0.6562\n",
      "Epoch 8/30\n",
      " - 6s - loss: 0.0541 - accuracy: 0.9856 - val_loss: 0.8041 - val_accuracy: 0.6562\n",
      "Epoch 9/30\n",
      " - 6s - loss: 0.0882 - accuracy: 0.9800 - val_loss: 0.8041 - val_accuracy: 0.6562\n",
      "Epoch 10/30\n",
      " - 6s - loss: 0.0382 - accuracy: 0.9850 - val_loss: 2.3875 - val_accuracy: 0.5521\n",
      "Epoch 11/30\n",
      " - 6s - loss: 0.0319 - accuracy: 0.9912 - val_loss: 2.3875 - val_accuracy: 0.5521\n",
      "Epoch 12/30\n",
      " - 6s - loss: 0.0601 - accuracy: 0.9875 - val_loss: 2.3875 - val_accuracy: 0.5521\n",
      "Epoch 13/30\n",
      " - 6s - loss: 0.0274 - accuracy: 0.9906 - val_loss: 2.3875 - val_accuracy: 0.5521\n",
      "Epoch 14/30\n",
      " - 6s - loss: 0.0094 - accuracy: 0.9969 - val_loss: 2.3875 - val_accuracy: 0.5521\n",
      "Epoch 15/30\n",
      " - 6s - loss: 0.0056 - accuracy: 0.9981 - val_loss: 2.3875 - val_accuracy: 0.5521\n",
      "Epoch 16/30\n",
      " - 6s - loss: 0.0032 - accuracy: 0.9987 - val_loss: 2.3875 - val_accuracy: 0.5521\n",
      "Epoch 17/30\n",
      " - 6s - loss: 0.1098 - accuracy: 0.9912 - val_loss: 2.3875 - val_accuracy: 0.5521\n",
      "Epoch 18/30\n",
      " - 6s - loss: 0.1121 - accuracy: 0.9881 - val_loss: 2.3875 - val_accuracy: 0.5521\n",
      "Epoch 19/30\n",
      " - 6s - loss: 0.2220 - accuracy: 0.9894 - val_loss: 2.3875 - val_accuracy: 0.5521\n",
      "Epoch 20/30\n",
      " - 7s - loss: 0.0341 - accuracy: 0.9937 - val_loss: 103.7426 - val_accuracy: 0.6120\n",
      "Epoch 21/30\n",
      " - 9s - loss: 0.7918 - accuracy: 0.9906 - val_loss: 103.7426 - val_accuracy: 0.6120\n",
      "Epoch 22/30\n",
      " - 10s - loss: 0.0459 - accuracy: 0.9937 - val_loss: 103.7426 - val_accuracy: 0.6120\n",
      "Epoch 23/30\n",
      " - 8s - loss: 0.0149 - accuracy: 0.9969 - val_loss: 103.7426 - val_accuracy: 0.6120\n",
      "Epoch 24/30\n",
      " - 10s - loss: 0.0162 - accuracy: 0.9975 - val_loss: 103.7426 - val_accuracy: 0.6120\n",
      "Epoch 25/30\n",
      " - 8s - loss: 0.0065 - accuracy: 0.9975 - val_loss: 103.7426 - val_accuracy: 0.6120\n",
      "Epoch 26/30\n",
      " - 8s - loss: 0.0023 - accuracy: 1.0000 - val_loss: 103.7426 - val_accuracy: 0.6120\n",
      "Epoch 27/30\n",
      " - 10s - loss: 0.0016 - accuracy: 1.0000 - val_loss: 103.7426 - val_accuracy: 0.6120\n",
      "Epoch 28/30\n",
      " - 8s - loss: 5.3176e-04 - accuracy: 1.0000 - val_loss: 103.7426 - val_accuracy: 0.6120\n",
      "Epoch 29/30\n",
      " - 10s - loss: 3.3945e-04 - accuracy: 1.0000 - val_loss: 103.7426 - val_accuracy: 0.6120\n",
      "Epoch 30/30\n",
      " - 8s - loss: 2.2204e-04 - accuracy: 1.0000 - val_loss: 2.7998 - val_accuracy: 0.5964\n"
     ]
    }
   ],
   "source": [
    "model.fit_generator(gentrain, \n",
    "                     steps_per_epoch=TRAIN_SIZE//BATCH_SIZE,\n",
    "                     verbose=2,\n",
    "                     validation_data=gentest,\n",
    "                     validation_steps=VAL_SIZE//BATCH_SIZE,\n",
    "                     validation_freq=[5,10,20,NUM_EPOCHS],\n",
    "                     epochs=NUM_EPOCHS,\n",
    "                     workers=3,\n",
    "                     use_multiprocessing=False)\n",
    "model.save('my_model.h5')"
   ]
  },
  {
   "cell_type": "code",
   "execution_count": 23,
   "metadata": {},
   "outputs": [
    {
     "name": "stdout",
     "output_type": "stream",
     "text": [
      "400/400 [==============================] - ETA:  - ETA:  - ETA:  - ETA:  - ETA:  - 0s 1ms/step\n"
     ]
    },
    {
     "data": {
      "text/plain": [
       "[25.823695755004884, 0.5625]"
      ]
     },
     "execution_count": 23,
     "metadata": {},
     "output_type": "execute_result"
    }
   ],
   "source": [
    "model.evaluate([x1_val,x2_val],y_val,\n",
    "              batch_size=BATCH_SIZE)"
   ]
  },
  {
   "cell_type": "code",
   "execution_count": null,
   "metadata": {},
   "outputs": [],
   "source": []
  }
 ],
 "metadata": {
  "kernelspec": {
   "display_name": "Python 3",
   "language": "python",
   "name": "python3"
  },
  "language_info": {
   "codemirror_mode": {
    "name": "ipython",
    "version": 3
   },
   "file_extension": ".py",
   "mimetype": "text/x-python",
   "name": "python",
   "nbconvert_exporter": "python",
   "pygments_lexer": "ipython3",
   "version": "3.6.9"
  }
 },
 "nbformat": 4,
 "nbformat_minor": 4
}